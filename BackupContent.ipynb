{
 "cells": [
  {
   "cell_type": "code",
   "execution_count": null,
   "metadata": {},
   "outputs": [],
   "source": [
    "import boto3,re,pickle\n",
    "from IPython.display import JSON\n",
    "\n",
    "sourceAccountId=\"xxxxxxxxxxxx\"\n",
    "sourceRegion='us-east-1'\n",
    "dataSetId0=\"d0a8604c-0be1-4e93-a20f-xxxxxxxxxxxx\"\n",
    "dataSetId1=\"799d702f-d58f-4e1e-ac3e-xxxxxxxxxxxx\"\n",
    "analysisId=\"e5273101-59ac-46d1-a524-xxxxxxxxxxxx\"\n",
    "themeId=\"73cd3a03-552c-492d-a91b-xxxxxxxxxxxx\"\n",
    "dashboardId=\"6276c49a-7a2e-4706-8ea3-xxxxxxxxxxxx\"\n",
    "templateId=\"concept-graph-dashboard-template\"\n",
    "\n",
    "sourceQuickSight = boto3.client('quicksight', region_name=sourceRegion)"
   ]
  },
  {
   "cell_type": "code",
   "execution_count": null,
   "metadata": {},
   "outputs": [],
   "source": [
    "#Describe source data set 0\n",
    "sourceDataSetDescribeResponse0 = sourceQuickSight.describe_data_set(AwsAccountId=sourceAccountId,\n",
    "                                                  DataSetId=dataSetId0)\n",
    "file = open('./backup/sourceDataSetDescribeResponse0','wb')\n",
    "pickle.dump(sourceDataSetDescribeResponse0, file)\n",
    "file.close()\n",
    "JSON(sourceDataSetDescribeResponse0)"
   ]
  },
  {
   "cell_type": "code",
   "execution_count": null,
   "metadata": {},
   "outputs": [],
   "source": [
    "#Describe source data set 0 permissions\n",
    "sourceDataSetPermsDescribeResponse0 = sourceQuickSight.describe_data_set_permissions(AwsAccountId=sourceAccountId, \n",
    "                                                         DataSetId=dataSetId0)\n",
    "file = open('./backup/sourceDataSetPermsDescribeResponse0','wb')\n",
    "pickle.dump(sourceDataSetPermsDescribeResponse0, file)\n",
    "file.close()\n",
    "JSON(sourceDataSetPermsDescribeResponse0)"
   ]
  },
  {
   "cell_type": "code",
   "execution_count": null,
   "metadata": {},
   "outputs": [],
   "source": [
    "#Describe source data set 1\n",
    "sourceDataSetDescribeResponse1 = sourceQuickSight.describe_data_set(AwsAccountId=sourceAccountId,\n",
    "                                                  DataSetId=dataSetId1)\n",
    "file = open('./backup/sourceDataSetDescribeResponse1','wb')\n",
    "pickle.dump(sourceDataSetDescribeResponse1, file)\n",
    "file.close()\n",
    "JSON(sourceDataSetDescribeResponse1)"
   ]
  },
  {
   "cell_type": "code",
   "execution_count": null,
   "metadata": {},
   "outputs": [],
   "source": [
    "#Describe source data set 1 permissions\n",
    "sourceDataSetPermsDescribeResponse1 = sourceQuickSight.describe_data_set_permissions(AwsAccountId=sourceAccountId, \n",
    "                                                         DataSetId=dataSetId1)\n",
    "file = open('./backup/sourceDataSetPermsDescribeResponse1','wb')\n",
    "pickle.dump(sourceDataSetPermsDescribeResponse1, file)\n",
    "file.close()\n",
    "JSON(sourceDataSetPermsDescribeResponse1)"
   ]
  },
  {
   "cell_type": "code",
   "execution_count": null,
   "metadata": {},
   "outputs": [],
   "source": [
    "#Describe source analysis\n",
    "sourceAnalysisDescribeResponse = sourceQuickSight.describe_analysis(AwsAccountId=sourceAccountId,\n",
    "                                                  AnalysisId=analysisId)\n",
    "JSON(sourceAnalysisDescribeResponse)\n",
    "file = open('./backup/sourceAnalysisDescribeResponse','wb')\n",
    "pickle.dump(sourceAnalysisDescribeResponse, file)\n",
    "file.close()"
   ]
  },
  {
   "cell_type": "code",
   "execution_count": null,
   "metadata": {},
   "outputs": [],
   "source": [
    "#Create template from analysis on source account\n",
    "sourceAnalysis = sourceAnalysisDescribeResponse['Analysis']\n",
    "sourceTemplateCreateResponse = sourceQuickSight.create_template(AwsAccountId=sourceAccountId,\n",
    "                                                               TemplateId=templateId,\n",
    "                                                               Name=templateId,\n",
    "                                                               Permissions=[ {'Principal':'*', 'Actions':['quicksight:DescribeTemplate'] } ],\n",
    "                                                               SourceEntity={\n",
    "                                                                    'SourceAnalysis': {\n",
    "                                                                        'Arn': sourceAnalysis['Arn'],\n",
    "                                                                        'DataSetReferences': [\n",
    "                                                                            {\n",
    "                                                                                'DataSetPlaceholder': 'DataSet0',\n",
    "                                                                                'DataSetArn': sourceAnalysis['DataSetArns'][0]\n",
    "                                                                            },\n",
    "                                                                            {\n",
    "                                                                                'DataSetPlaceholder': 'DataSet1',\n",
    "                                                                                'DataSetArn': sourceAnalysis['DataSetArns'][1]\n",
    "                                                                            }\n",
    "                                                                        ]\n",
    "                                                                    }\n",
    "                                                                })\n",
    "JSON(sourceTemplateCreateResponse)\n",
    "file = open('./backup/sourceTemplateCreateResponse','wb')\n",
    "pickle.dump(sourceTemplateCreateResponse, file)\n",
    "file.close()"
   ]
  },
  {
   "cell_type": "code",
   "execution_count": null,
   "metadata": {},
   "outputs": [],
   "source": [
    "#Describe source template\n",
    "sourceTemplateDescribeResponse = sourceQuickSight.describe_template(AwsAccountId=sourceAccountId,\n",
    "                                                               TemplateId=templateId)\n",
    "JSON(sourceTemplateDescribeResponse)\n",
    "file = open('./backup/sourceTemplateDescribeResponse','wb')\n",
    "pickle.dump(sourceTemplateDescribeResponse, file)\n",
    "file.close()"
   ]
  },
  {
   "cell_type": "code",
   "execution_count": null,
   "metadata": {},
   "outputs": [],
   "source": [
    "#Describe Source Theme\n",
    "sourceThemeDescribeResponse = sourceQuickSight.describe_theme(AwsAccountId=sourceAccountId,\n",
    "                                                               ThemeId=themeId)\n",
    "JSON(sourceThemeDescribeResponse)\n",
    "file = open('./backup/sourceThemeDescribeResponse','wb')\n",
    "pickle.dump(sourceThemeDescribeResponse, file)\n",
    "file.close()"
   ]
  },
  {
   "cell_type": "code",
   "execution_count": null,
   "metadata": {},
   "outputs": [],
   "source": [
    "#Describe source analysis permissions\n",
    "sourceAnalysisPermsDescribeResponse = sourceQuickSight.describe_analysis_permissions(AwsAccountId=sourceAccountId,\n",
    "                                                               AnalysisId=sourceAnalysis['AnalysisId'])\n",
    "JSON(sourceAnalysisPermsDescribeResponse)\n",
    "file = open('./backup/sourceAnalysisPermsDescribeResponse','wb')\n",
    "pickle.dump(sourceAnalysisPermsDescribeResponse, file)\n",
    "file.close()"
   ]
  },
  {
   "cell_type": "code",
   "execution_count": null,
   "metadata": {},
   "outputs": [],
   "source": [
    "#Describe source dashboard\n",
    "sourceDashboardDescribeResponse = sourceQuickSight.describe_dashboard(AwsAccountId=sourceAccountId,\n",
    "                                                               DashboardId=dashboardId)\n",
    "JSON(sourceDashboardDescribeResponse)\n",
    "file = open('./backup/sourceDashboardDescribeResponse','wb')\n",
    "pickle.dump(sourceDashboardDescribeResponse, file)\n",
    "file.close()"
   ]
  },
  {
   "cell_type": "code",
   "execution_count": null,
   "metadata": {},
   "outputs": [],
   "source": [
    "#Describe source dashboard permissions\n",
    "sourceDashboardPermsDescribeResponse = sourceQuickSight.describe_dashboard_permissions(AwsAccountId=sourceAccountId,\n",
    "                                                               DashboardId=dashboardId)\n",
    "JSON(sourceDashboardPermsDescribeResponse)\n",
    "file = open('./backup/sourceDashboardPermsDescribeResponse','wb')\n",
    "pickle.dump(sourceDashboardPermsDescribeResponse, file)\n",
    "file.close()"
   ]
  }
 ],
 "metadata": {
  "kernelspec": {
   "name": "python3",
   "display_name": "Python 3.8.10 64-bit"
  },
  "language_info": {
   "codemirror_mode": {
    "name": "ipython",
    "version": 3
   },
   "file_extension": ".py",
   "mimetype": "text/x-python",
   "name": "python",
   "nbconvert_exporter": "python",
   "pygments_lexer": "ipython3",
   "version": "3.8.10"
  },
  "interpreter": {
   "hash": "916dbcbb3f70747c44a77c7bcd40155683ae19c65e1c03b4aa3499c5328201f1"
  }
 },
 "nbformat": 4,
 "nbformat_minor": 4
}