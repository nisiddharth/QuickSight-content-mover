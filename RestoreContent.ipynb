{
 "cells": [
  {
   "cell_type": "code",
   "execution_count": null,
   "metadata": {},
   "outputs": [],
   "source": [
    "import boto3,re,pickle,json\n",
    "\n",
    "sourceAccountId=\"xxxxxxxxxxxx\"\n",
    "targetAccountId=\"xxxxxxxxxxxx\"\n",
    "targetRegion='us-east-1'\n",
    "dataSetId0=\"cncept-graph-dashboard-rollout-data\"\n",
    "dataSetId1=\"concept-graph-dashboard-feedback-data\"\n",
    "analysisId=\"concept-graph-dashboard-analysis\"\n",
    "themeId=\"concept-graph-dashboard-theme\"\n",
    "dashboardId=\"concept-graph-dashboard\"\n",
    "templateId=\"concept-graph-dashboard-template\"\n",
    "\n",
    "targetQuickSight = boto3.client('quicksight', region_name=targetRegion)"
   ]
  },
  {
   "cell_type": "code",
   "execution_count": null,
   "metadata": {},
   "outputs": [],
   "source": [
    "#Create data set 0 on target account\n",
    "\n",
    "file = open('./backup/sourceDataSetDescribeResponse0', 'rb')\n",
    "sourceDataSetDescribeResponse0 = pickle.load(file)\n",
    "file.close()\n",
    "file = open('./backup/sourceDataSetPermsDescribeResponse0', 'rb')\n",
    "sourceDataSetPermsDescribeResponse0 = pickle.load(file)\n",
    "file.close()\n",
    "sourceDataSet0=sourceDataSetDescribeResponse0['DataSet']\n",
    "\n",
    "sourceDataSetPerms0 = sourceDataSetPermsDescribeResponse0['Permissions']\n",
    "sourceDataSetPerms0[0]['Principal'] = re.sub(sourceAccountId,targetAccountId,sourceDataSetPerms0[0]['Principal'])\n",
    "              \n",
    "targetDataSetCreateResponse0 = targetQuickSight.create_data_set(AwsAccountId=targetAccountId,\n",
    "                                      DataSetId=dataSetId0,\n",
    "                                      Name=sourceDataSet0['Name'],\n",
    "                                      PhysicalTableMap=sourceDataSet0['PhysicalTableMap'],\n",
    "                                      LogicalTableMap=sourceDataSet0['LogicalTableMap'],\n",
    "                                      ImportMode=sourceDataSet0['ImportMode'],\n",
    "                                      Permissions=sourceDataSetPerms0)\n",
    "json.dumps(targetDataSetCreateResponse0, default=str, indent='\\t')"
   ]
  },
  {
   "cell_type": "code",
   "execution_count": null,
   "metadata": {},
   "outputs": [],
   "source": [
    "#Describe target data set 0\n",
    "targetDataSetDescribeResponse0 = targetQuickSight.describe_data_set(AwsAccountId=targetAccountId,\n",
    "                                                  DataSetId=dataSetId0)\n",
    "json.dumps(targetDataSetDescribeResponse0, default=str, indent='\\t')"
   ]
  },
  {
   "cell_type": "code",
   "execution_count": null,
   "metadata": {},
   "outputs": [],
   "source": [
    "#Create data set 1 on target account\n",
    "\n",
    "file = open('./backup/sourceDataSetDescribeResponse1', 'rb')\n",
    "sourceDataSetDescribeResponse1 = pickle.load(file)\n",
    "file.close()\n",
    "file = open('./backup/sourceDataSetPermsDescribeResponse1', 'rb')\n",
    "sourceDataSetPermsDescribeResponse1 = pickle.load(file)\n",
    "file.close()\n",
    "sourceDataSet1=sourceDataSetDescribeResponse1['DataSet']\n",
    "\n",
    "sourceDataSetPerms1 = sourceDataSetPermsDescribeResponse1['Permissions']\n",
    "sourceDataSetPerms1[0]['Principal'] = re.sub(sourceAccountId,targetAccountId,sourceDataSetPerms1[0]['Principal'])\n",
    "              \n",
    "targetDataSetCreateResponse1 = targetQuickSight.create_data_set(AwsAccountId=targetAccountId,\n",
    "                                      DataSetId=dataSetId1,\n",
    "                                      Name=sourceDataSet1['Name'],\n",
    "                                      PhysicalTableMap=sourceDataSet1['PhysicalTableMap'],\n",
    "                                      LogicalTableMap=sourceDataSet1['LogicalTableMap'],\n",
    "                                      ImportMode=sourceDataSet1['ImportMode'],\n",
    "                                      Permissions=sourceDataSetPerms1)\n",
    "json.dumps(targetDataSetCreateResponse1, default=str, indent='\\t')"
   ]
  },
  {
   "cell_type": "code",
   "execution_count": null,
   "metadata": {},
   "outputs": [],
   "source": [
    "#Describe target data set 1\n",
    "targetDataSetDescribeResponse1 = targetQuickSight.describe_data_set(AwsAccountId=targetAccountId,\n",
    "                                                  DataSetId=dataSetId1)\n",
    "json.dumps(targetDataSetDescribeResponse1, default=str, indent='\\t')"
   ]
  },
  {
   "cell_type": "code",
   "execution_count": null,
   "metadata": {},
   "outputs": [],
   "source": [
    "#Create target theme\n",
    "file = open('./backup/sourceThemeDescribeResponse', 'rb')\n",
    "sourceThemeDescribeResponse = pickle.load(file)\n",
    "file.close()\n",
    "sourceTheme = sourceThemeDescribeResponse['Theme']\n",
    "              \n",
    "targetThemeCreateResponse = targetQuickSight.create_theme(AwsAccountId=targetAccountId,\n",
    "                                      ThemeId=themeId,\n",
    "                                      Name=sourceTheme['Name'],\n",
    "                                      BaseThemeId=sourceTheme['Version']['BaseThemeId'],\n",
    "                                      Configuration=sourceTheme['Version']['Configuration'])\n",
    "json.dumps(targetThemeCreateResponse, default=str, indent='\\t')"
   ]
  },
  {
   "cell_type": "code",
   "execution_count": null,
   "metadata": {},
   "outputs": [],
   "source": [
    "#Describe target theme\n",
    "targetThemeDescribeResponse = targetQuickSight.describe_theme(AwsAccountId=targetAccountId,\n",
    "                                      ThemeId=themeId)\n",
    "json.dumps(targetThemeDescribeResponse, default=str, indent='\\t')"
   ]
  },
  {
   "cell_type": "code",
   "execution_count": null,
   "metadata": {},
   "outputs": [],
   "source": [
    "#Create target Analysis\n",
    "file = open('./backup/sourceAnalysisPermsDescribeResponse', 'rb')\n",
    "sourceAnalysisPermsDescribeResponse = pickle.load(file)\n",
    "file.close()\n",
    "file = open('./backup/sourceTemplateDescribeResponse', 'rb')\n",
    "sourceTemplateDescribeResponse = pickle.load(file)\n",
    "file.close()\n",
    "sourceAnalysisPerms = sourceAnalysisPermsDescribeResponse['Permissions']\n",
    "sourceAnalysisPerms[0]['Principal'] = re.sub(sourceAccountId,targetAccountId,sourceAnalysisPerms[0]['Principal'])\n",
    "sourceTemplate = sourceTemplateDescribeResponse['Template']\n",
    "\n",
    "targetDataSet0 = targetDataSetDescribeResponse0['DataSet']\n",
    "targetDataSet1 = targetDataSetDescribeResponse1['DataSet']\n",
    "targetTheme = targetThemeDescribeResponse['Theme']\n",
    "\n",
    "targetAnalysisCreateResponse = targetQuickSight.create_analysis(AwsAccountId=targetAccountId,\n",
    "                                          AnalysisId=analysisId,\n",
    "                                          Name=sourceAnalysis['Name'],\n",
    "                                          SourceEntity={\n",
    "                                                'SourceTemplate': {\n",
    "                                                    'DataSetReferences': [\n",
    "                                                        {\n",
    "                                                            'DataSetPlaceholder': 'DataSet0',\n",
    "                                                            'DataSetArn': targetDataSet0['Arn']\n",
    "                                                        },\n",
    "                                                        {\n",
    "                                                            'DataSetPlaceholder': 'DataSet1',\n",
    "                                                            'DataSetArn': targetDataSet1['Arn']\n",
    "                                                        }\n",
    "                                                    ],\n",
    "                                                    'Arn': sourceTemplate['Arn']\n",
    "                                                }\n",
    "                                            },\n",
    "                                          ThemeArn=targetTheme['Arn'],\n",
    "                                          Permissions=sourceAnalysisPerms)\n",
    "json.dumps(targetAnalysisCreateResponse, default=str, indent='\\t')"
   ]
  },
  {
   "cell_type": "code",
   "execution_count": null,
   "metadata": {},
   "outputs": [],
   "source": [
    "#Describe target analysis\n",
    "targetAnalysisDescribeResponse = targetQuickSight.describe_analysis(AwsAccountId=targetAccountId,\n",
    "                                      AnalysisId=analysisId)\n",
    "json.dumps(targetAnalysisDescribeResponse, default=str, indent='\\t')"
   ]
  },
  {
   "cell_type": "code",
   "execution_count": null,
   "metadata": {},
   "outputs": [],
   "source": [
    "#Create target dashboard\n",
    "file = open('./backup/sourceDashboardDescribeResponse', 'rb')\n",
    "sourceDashboardDescribeResponse = pickle.load(file)\n",
    "file.close()\n",
    "file = open('./backup/sourceDashboardPermsDescribeResponse', 'rb')\n",
    "sourceDashboardPermsDescribeResponse = pickle.load(file)\n",
    "file.close()\n",
    "sourceDashboard = sourceDashboardDescribeResponse['Dashboard']\n",
    "sourceDashboardPerms = sourceDashboardPermsDescribeResponse['Permissions']\n",
    "sourceDashboardPerms[0]['Principal'] = re.sub(sourceAccountId,targetAccountId,sourceDashboardPerms[0]['Principal'])\n",
    "sourceTemplate = sourceTemplateDescribeResponse['Template']\n",
    "\n",
    "targetDataSet = targetDataSetDescribeResponse['DataSet']\n",
    "targetTheme = targetThemeDescribeResponse['Theme']\n",
    "\n",
    "targetDashboardCreateResponse = targetQuickSight.create_dashboard(AwsAccountId=targetAccountId,\n",
    "                                          DashboardId=dashboardId,\n",
    "                                          Name=sourceDashboard['Name'],\n",
    "                                          SourceEntity={\n",
    "                                                'SourceTemplate': {\n",
    "                                                    'DataSetReferences': [\n",
    "                                                        {\n",
    "                                                            'DataSetPlaceholder': 'DataSet0',\n",
    "                                                            'DataSetArn': targetDataSet0['Arn']\n",
    "                                                        },\n",
    "                                                        {\n",
    "                                                            'DataSetPlaceholder': 'DataSet1',\n",
    "                                                            'DataSetArn': targetDataSet1['Arn']\n",
    "                                                        }\n",
    "                                                    ],\n",
    "                                                    'Arn': sourceTemplate['Arn']\n",
    "                                                }\n",
    "                                            },\n",
    "                                          ThemeArn=targetTheme['Arn'],\n",
    "                                          Permissions=sourceDashboardPerms)\n",
    "json.dumps(targetDashboardCreateResponse, default=str, indent='\\t')"
   ]
  },
  {
   "cell_type": "code",
   "execution_count": null,
   "metadata": {},
   "outputs": [],
   "source": [
    "#Describe target dashboard\n",
    "targetDashboardDescribeResponse = targetQuickSight.describe_dashboard(AwsAccountId=targetAccountId,\n",
    "                                      DashboardId=dashboardId)\n",
    "json.dumps(targetDashboardDescribeResponse, default=str, indent='\\t')"
   ]
  }
 ],
 "metadata": {
  "kernelspec": {
   "name": "python3",
   "display_name": "Python 3.8.10 64-bit"
  },
  "language_info": {
   "codemirror_mode": {
    "name": "ipython",
    "version": 3
   },
   "file_extension": ".py",
   "mimetype": "text/x-python",
   "name": "python",
   "nbconvert_exporter": "python",
   "pygments_lexer": "ipython3",
   "version": "3.8.10"
  },
  "interpreter": {
   "hash": "916dbcbb3f70747c44a77c7bcd40155683ae19c65e1c03b4aa3499c5328201f1"
  }
 },
 "nbformat": 4,
 "nbformat_minor": 4
}